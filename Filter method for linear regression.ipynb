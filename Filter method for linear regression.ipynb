{
 "cells": [
  {
   "cell_type": "code",
   "execution_count": 1,
   "metadata": {},
   "outputs": [],
   "source": [
    "import numpy as np\n",
    "import pandas as pd\n",
    "import seaborn as sns\n",
    "import matplotlib as plt\n",
    "from scipy.stats import pearsonr\n",
    "from numpy.linalg import inv"
   ]
  },
  {
   "cell_type": "code",
   "execution_count": 2,
   "metadata": {},
   "outputs": [],
   "source": [
    "data = pd.read_csv('50_Startups_1.csv')\n",
    "#data.fillna(data.mean(), inplace = True)"
   ]
  },
  {
   "cell_type": "code",
   "execution_count": 3,
   "metadata": {},
   "outputs": [
    {
     "data": {
      "text/plain": [
       "<matplotlib.axes._subplots.AxesSubplot at 0x28e53271be0>"
      ]
     },
     "execution_count": 3,
     "metadata": {},
     "output_type": "execute_result"
    },
    {
     "data": {
      "image/png": "[encoded data removed]",
      "text/plain": [
       "<Figure size 432x288 with 2 Axes>"
      ]
     },
     "metadata": {
      "needs_background": "light"
     },
     "output_type": "display_data"
    }
   ],
   "source": [
    "cor = data.corr()\n",
    "sns.heatmap(cor, annot=True, cmap=plt.cm.Reds)"
   ]
  },
  {
   "cell_type": "code",
   "execution_count": 3,
   "metadata": {},
   "outputs": [
    {
     "data": {
      "text/plain": [
       "['R&D Spend', 'Administration', 'Marketing Spend']"
      ]
     },
     "execution_count": 3,
     "metadata": {},
     "output_type": "execute_result"
    }
   ],
   "source": [
    "\n",
    "#data.fillna(data.mean(), inplace = True)\n",
    "\n",
    "numeric_features = data.select_dtypes([np.number]).columns.tolist()\n",
    "\n",
    "numeric_features.remove('Profit')\n",
    "\n",
    "numeric_features"
   ]
  },
  {
   "cell_type": "code",
   "execution_count": 10,
   "metadata": {},
   "outputs": [
    {
     "name": "stdout",
     "output_type": "stream",
     "text": [
      "           R&D Spend  Administration  Marketing Spend         Profit\n",
      "count      50.000000       50.000000         50.00000      50.000000\n",
      "mean    69629.273200   113103.068200     195378.14840  112012.639200\n",
      "std     47950.844033    39961.757032     129779.74018   40306.180338\n",
      "min         0.000000        0.000000          0.00000   14681.400000\n",
      "25%     28686.402500    99414.682500      95133.02500   90138.902500\n",
      "50%     69820.065000   118608.950000     203322.23000  107978.190000\n",
      "75%     99168.260000   142990.275000     298276.96750  139765.977500\n",
      "max    165349.200000   182645.560000     471784.10000  192261.830000\n"
     ]
    }
   ],
   "source": [
    "print(data.describe())"
   ]
  },
  {
   "cell_type": "code",
   "execution_count": 11,
   "metadata": {},
   "outputs": [
    {
     "name": "stdout",
     "output_type": "stream",
     "text": [
      "<class 'pandas.core.frame.DataFrame'>\n",
      "RangeIndex: 50 entries, 0 to 49\n",
      "Data columns (total 5 columns):\n",
      "R&D Spend          50 non-null float64\n",
      "Administration     50 non-null float64\n",
      "Marketing Spend    50 non-null float64\n",
      "State              46 non-null object\n",
      "Profit             50 non-null float64\n",
      "dtypes: float64(4), object(1)\n",
      "memory usage: 2.0+ KB\n",
      "None\n"
     ]
    }
   ],
   "source": [
    "print(data.info())"
   ]
  },
  {
   "cell_type": "code",
   "execution_count": 4,
   "metadata": {},
   "outputs": [],
   "source": [
    "correlated_features = []\n",
    "\n",
    "\n",
    "def correlation_test (numeric_features,target_variable,p):\n",
    "    print(\"Features to use in model are:\\n\")\n",
    "    for i in numeric_features:\n",
    "        correlation,pvalue = pearsonr(data[i] , data[target_variable])\n",
    "        \n",
    "        Confidence_Level = ((1- pvalue)*100)\n",
    "        if pvalue <= p:\n",
    "            correlated_features.append(i)\n",
    "            \n",
    "            \n",
    "            \n",
    "    print(correlated_features)"
   ]
  },
  {
   "cell_type": "code",
   "execution_count": 5,
   "metadata": {},
   "outputs": [
    {
     "name": "stdout",
     "output_type": "stream",
     "text": [
      "Features to use in model are:\n",
      "\n",
      "['R&D Spend', 'Marketing Spend']\n"
     ]
    }
   ],
   "source": [
    "correlation_test(numeric_features,'Profit' ,0.05)"
   ]
  },
  {
   "cell_type": "code",
   "execution_count": 6,
   "metadata": {},
   "outputs": [],
   "source": [
    "mutli_collinear_features = []\n",
    "non_multi_collinear_features = []\n",
    "\n",
    "def multi_collinearity_check(correlated_features, p):\n",
    "\n",
    "    for i, j in zip(correlated_features[::],correlated_features[1::] + correlated_features[::1]):\n",
    "        correlation,pvalue = pearsonr(data[i] , data[j])\n",
    "        if pvalue <= p:\n",
    "            \n",
    "            print(\"Columns {} & {} are non multi collinear(different)\".format(i,j))\n",
    "            non_multi_collinear_features.append(i)\n",
    "        \n",
    "        else:\n",
    "            print(\"Columns {} & {} have multi collinearity\".format(i,j))\n",
    "            mutli_collinear_features.append(i)\n",
    "        \n",
    "        \n"
   ]
  },
  {
   "cell_type": "code",
   "execution_count": 8,
   "metadata": {},
   "outputs": [
    {
     "name": "stdout",
     "output_type": "stream",
     "text": [
      "Columns R&D Spend & Marketing Spend are non multi collinear(different)\n",
      "Columns Marketing Spend & R&D Spend are non multi collinear(different)\n"
     ]
    }
   ],
   "source": [
    "multi_collinearity_check(correlated_features, 0.05)"
   ]
  },
  {
   "cell_type": "code",
   "execution_count": 9,
   "metadata": {},
   "outputs": [
    {
     "data": {
      "text/plain": [
       "['R&D Spend', 'Marketing Spend']"
      ]
     },
     "execution_count": 9,
     "metadata": {},
     "output_type": "execute_result"
    }
   ],
   "source": [
    "non_multi_collinear_features"
   ]
  }
 ],
 "metadata": {
  "kernelspec": {
   "display_name": "Python 3",
   "language": "python",
   "name": "python3"
  },
  "language_info": {
   "codemirror_mode": {
    "name": "ipython",
    "version": 3
   },
   "file_extension": ".py",
   "mimetype": "text/x-python",
   "name": "python",
   "nbconvert_exporter": "python",
   "pygments_lexer": "ipython3",
   "version": "3.7.3"
  }
 },
 "nbformat": 4,
 "nbformat_minor": 2
}
